{
 "cells": [
  {
   "cell_type": "code",
   "execution_count": 1,
   "metadata": {},
   "outputs": [
    {
     "name": "stdout",
     "output_type": "stream",
     "text": [
      "Reading in and transforming data...\n"
     ]
    }
   ],
   "source": [
    "import numpy as np\n",
    "import torch\n",
    "import torch.nn as nn\n",
    "from torch import optim\n",
    "from  torch.distributions import multivariate_normal\n",
    "import matplotlib.pyplot as plt\n",
    "import util\n",
    "torch.cuda.empty_cache()\n",
    "X, Y = util.get_mnist()\n",
    "X_torch=torch.Tensor(X)\n"
   ]
  },
  {
   "cell_type": "code",
   "execution_count": 2,
   "metadata": {},
   "outputs": [],
   "source": [
    "def torch_softplus(x):\n",
    "    return torch.log1p(torch.exp(x))\n",
    "\n"
   ]
  },
  {
   "cell_type": "code",
   "execution_count": 3,
   "metadata": {},
   "outputs": [],
   "source": [
    "class Variational_Autoencoder(nn.Module):\n",
    "    def __init__(self,input_size,hidden_sizes,device='cpu'):\n",
    "        super(Variational_Autoencoder,self).__init__()\n",
    "        self.input_size=input_size\n",
    "        self.hidden_sizes=hidden_sizes\n",
    "        self.device=device\n",
    "        self.encoder_f()\n",
    "        self.decoder_f()\n",
    "        #self.params=list(self.parameters())\n",
    "\n",
    "    def encoder_f(self):\n",
    "        encoder=nn.Sequential()\n",
    "        inp=self.input_size\n",
    "        for idx,out in enumerate(self.hidden_sizes):\n",
    "            if out==self.hidden_sizes[-1]:\n",
    "                encoder.add_module('L'+str(idx),nn.Linear(inp,2*out))\n",
    "            else:\n",
    "                encoder.add_module('L'+str(idx),nn.Linear(inp,out))\n",
    "            encoder.add_module('A'+str(idx),nn.ReLU())\n",
    "            inp=out\n",
    "            #print(out)\n",
    "\n",
    "        self.Encoder=encoder\n",
    "        #return encoder\n",
    "    def decoder_f(self):\n",
    "        rev_size=self.hidden_sizes.copy()\n",
    "        rev_size.reverse()\n",
    "        rev_size.append(self.input_size)\n",
    "        decoder=nn.Sequential()\n",
    "        inp=rev_size[0]\n",
    "        for idx,out in enumerate(rev_size[1:]):\n",
    "            if out==rev_size[-1]:\n",
    "                decoder.add_module('L'+str(idx),nn.Linear(inp,out))\n",
    "                decoder.add_module('A'+str(idx),nn.Sigmoid())\n",
    "            else:\n",
    "                decoder.add_module('L'+str(idx),nn.Linear(inp,out))\n",
    "                decoder.add_module('A'+str(idx),nn.ReLU())\n",
    "            inp=out\n",
    "        self.Decoder=decoder\n",
    "    def forward(self,x):\n",
    "        sp=nn.Softplus()\n",
    "        # Encoder process\n",
    "        dist=self.Encoder(x)\n",
    "        # distribution splitting\n",
    "        split_idx=int(self.hidden_sizes[-1])\n",
    "        self.means=dist[:,:split_idx]\n",
    "        #log_var=sp(dist[:,split_idx:])+1e-6\n",
    "        #self.stds = torch.exp(0.5*log_var)\n",
    "        self.stds=sp(dist[:,split_idx:])+1e-6\n",
    "        #self.var=sp(dist[:,split_idx:])+1e-6\n",
    "        # z\n",
    "        z=self.means+self.stds*torch.randn_like(self.stds,device=self.device)\n",
    "        #z=self.means+torch.sqrt(self.var)*torch.randn_like(self.var,device=self.device)\n",
    "        x_hat=self.Decoder(z)\n",
    "        return x_hat\n",
    "        \n",
    "\n",
    "    def cost_function(self,X_hat,X):\n",
    "        BCE=nn.BCELoss(reduction='sum')\n",
    "        #BCE=nn.MSELoss(reduction='sum')\n",
    "        KLD = 0.5 * \\\n",
    "            torch.sum(-1 - torch.log(self.stds**2) + self.means**2 + self.stds**2)\n",
    "        #KLD=(-torch.log(self.stds)+0.5*(self.stds**2+self.means**2-1)).sum()\n",
    "        #KLD=(-torch.log(torch.sqrt(self.var))+0.5*(self.var+self.means**2-1)).sum()\n",
    "        #print('BCE:',BCE(X_hat,X))\n",
    "        #print('KLD:',KLD)\n",
    "        #print('=====')\n",
    "        return ((BCE(X_hat,X))+KLD),(BCE(X_hat,X)),KLD\n",
    "\n",
    "        \n",
    "    def fit(self,X,max_epoch=30,batch_sz=64):\n",
    "        #device = torch.device('cuda' if torch.cuda.is_available() else 'cpu')\n",
    "        BCE=[]\n",
    "        KLD=[]\n",
    "        costs=[]\n",
    "        #optimizor=optim.Adam(self.parameters(),lr=0.001,weight_decay=0.00005)\n",
    "        optimizor=optim.RMSprop(self.parameters(),lr=0.001,alpha=0.9)\n",
    "        batch_num=X.shape[0]//batch_sz\n",
    "        for epoch in range(max_epoch):\n",
    "            X=X[torch.randperm(X.size()[0])]\n",
    "            for b in range(batch_num):\n",
    "                X_b=X[b*batch_sz:(b+1)*batch_sz]\n",
    "                X_hat=self.forward(X_b)\n",
    "                cost,bce,kld=self.cost_function(X_hat,X_b)\n",
    "                optimizor.zero_grad()\n",
    "                cost.backward()\n",
    "                optimizor.step()\n",
    "                cost/=batch_sz\n",
    "                bce/=batch_sz\n",
    "                kld/=batch_sz\n",
    "                costs.append((cost.detach()).to('cpu'))\n",
    "                BCE.append((bce.detach()).to('cpu'))\n",
    "                KLD.append((kld.detach()).to('cpu'))\n",
    "                #print('Loss:',cost.detach())\n",
    "            #print('Epoch:',epoch+1)\n",
    "            #print('Loss:',cost.detach())\n",
    "        plt.figure(figsize=(15,5))\n",
    "        plt.subplot(1,3,1)\n",
    "        plt.plot([c for c in costs])\n",
    "        plt.title('ELBO')\n",
    "        plt.subplot(1,3,2)\n",
    "        plt.plot([b for b in BCE])\n",
    "        plt.title('BCE loss')\n",
    "        plt.subplot(1,3,3)\n",
    "        plt.plot([k for k in KLD])\n",
    "        plt.title('KL divergence')\n",
    "        plt.tight_layout()\n",
    "\n",
    "\n",
    "    def posterior_predictive_sample(self,X):\n",
    "        with torch.no_grad():\n",
    "            X_p=X.reshape(28,28)\n",
    "            X_hat=self.forward(X)\n",
    "            X_hat_p=X_hat.reshape(28,28)\n",
    "            sample=torch.bernoulli(X_hat_p)\n",
    "        plt.figure(figsize=(10,10))\n",
    "        plt.subplot(1,3,1)\n",
    "        plt.imshow(X_p.to('cpu'),cmap='gray')\n",
    "        plt.title('Original image')\n",
    "        plt.subplot(1,3,2)\n",
    "        plt.imshow(X_hat_p.to('cpu'),cmap='gray')\n",
    "        plt.title('Reconstruct distribution')\n",
    "        plt.subplot(1,3,3)\n",
    "        plt.imshow(sample.to('cpu'),cmap='gray')\n",
    "        plt.title('The sample')\n",
    "        plt.tight_layout()\n",
    "        return (X_hat,sample)\n",
    "    def prior_predictive_sample(self):\n",
    "        with torch.no_grad():\n",
    "            z=torch.randn([1,self.hidden_sizes[-1]],device=self.device)\n",
    "            X_hat=self.Decoder(z)\n",
    "            X_hat_p=X_hat.reshape(28,28)\n",
    "            sample=torch.bernoulli(X_hat_p)\n",
    "        plt.figure(figsize=(10,10))\n",
    "        plt.subplot(1,2,1)\n",
    "        plt.imshow(X_hat_p.to('cpu'),cmap='gray')\n",
    "        plt.title('The prior z')\n",
    "        plt.subplot(1,2,2)\n",
    "        plt.imshow(sample.to('cpu'),cmap='gray')\n",
    "        plt.title('The sample')\n",
    "        plt.tight_layout()\n",
    "        \n",
    "\n",
    "\n",
    "\n",
    "\n",
    "       \n"
   ]
  },
  {
   "cell_type": "code",
   "execution_count": 4,
   "metadata": {},
   "outputs": [
    {
     "data": {
      "text/plain": [
       "True"
      ]
     },
     "execution_count": 4,
     "metadata": {},
     "output_type": "execute_result"
    }
   ],
   "source": [
    "#device='cpu'\n",
    "device = torch.device('cuda' if torch.cuda.is_available() else 'cpu')\n",
    "VAE=Variational_Autoencoder(784,[200,100],device=device)\n",
    "VAE=VAE.to(device)\n",
    "torch.cuda.is_available()\n"
   ]
  },
  {
   "cell_type": "code",
   "execution_count": 5,
   "metadata": {},
   "outputs": [
    {
     "data": {
      "image/png": "[encoded data removed]",
      "text/plain": [
       "<Figure size 1080x360 with 3 Axes>"
      ]
     },
     "metadata": {
      "needs_background": "light"
     },
     "output_type": "display_data"
    }
   ],
   "source": [
    "VAE.fit(X_torch.to(device),batch_sz=64)\n",
    "#VAE.fit(X_torch,batch_sz=16)"
   ]
  },
  {
   "cell_type": "code",
   "execution_count": 6,
   "metadata": {},
   "outputs": [
    {
     "data": {
      "image/png": "[encoded data removed]",
      "text/plain": [
       "<Figure size 720x720 with 3 Axes>"
      ]
     },
     "metadata": {
      "needs_background": "light"
     },
     "output_type": "display_data"
    }
   ],
   "source": [
    "#VAE=VAE.to(device)\n",
    "x=X_torch[200].unsqueeze(0)\n",
    "a,_=VAE.posterior_predictive_sample(x.to(device))"
   ]
  },
  {
   "cell_type": "code",
   "execution_count": 7,
   "metadata": {},
   "outputs": [
    {
     "data": {
      "image/png": "[encoded data removed]",
      "text/plain": [
       "<Figure size 720x720 with 2 Axes>"
      ]
     },
     "metadata": {
      "needs_background": "light"
     },
     "output_type": "display_data"
    }
   ],
   "source": [
    "#VAE.forward(x.to(device))\n",
    "VAE.prior_predictive_sample()\n"
   ]
  },
  {
   "cell_type": "code",
   "execution_count": null,
   "metadata": {},
   "outputs": [],
   "source": [
    "n=20\n",
    "x_values=np.linspace(0,5,n)\n",
    "y_values=np.linspace(0,5,n)\n",
    "image=np.empty((28*n,28*n))\n",
    "\n",
    "Z=[]\n",
    "for i,x in enumerate(x_values):\n",
    "    for j,y in enumerate(y_values):\n",
    "        z=[x,y]\n",
    "        Z.append(z)"
   ]
  },
  {
   "cell_type": "code",
   "execution_count": null,
   "metadata": {},
   "outputs": [],
   "source": [
    "Z=torch.Tensor(Z).to(device)\n",
    "VAE=VAE.to(device)\n",
    "VAE.device=device\n",
    "#X_recon=VAE.Decoder(Z)"
   ]
  },
  {
   "cell_type": "code",
   "execution_count": null,
   "metadata": {},
   "outputs": [],
   "source": [
    "X_recon=VAE.Decoder(Z)"
   ]
  },
  {
   "cell_type": "code",
   "execution_count": null,
   "metadata": {},
   "outputs": [],
   "source": [
    "X_recon=X_recon.to('cpu')"
   ]
  },
  {
   "cell_type": "code",
   "execution_count": null,
   "metadata": {},
   "outputs": [],
   "source": [
    "k=0\n",
    "for i,x in enumerate(x_values):\n",
    "    for j,y in enumerate(y_values):\n",
    "        x_recon=X_recon[k].detach().numpy()\n",
    "        k+=1\n",
    "        x_recon=x_recon.reshape(28,28)\n",
    "        image[(n-i-1)*28:(n-i)*28,j*28:(j+1)*28]=x_recon\n",
    "plt.figure(figsize=(20,20))\n",
    "plt.imshow(image,cmap='gray')"
   ]
  },
  {
   "cell_type": "code",
   "execution_count": null,
   "metadata": {},
   "outputs": [],
   "source": []
  }
 ],
 "metadata": {
  "kernelspec": {
   "display_name": "Python 3.9.6 ('pytorch')",
   "language": "python",
   "name": "python3"
  },
  "language_info": {
   "codemirror_mode": {
    "name": "ipython",
    "version": 3
   },
   "file_extension": ".py",
   "mimetype": "text/x-python",
   "name": "python",
   "nbconvert_exporter": "python",
   "pygments_lexer": "ipython3",
   "version": "3.9.6"
  },
  "orig_nbformat": 4,
  "vscode": {
   "interpreter": {
    "hash": "61d7d72412218704c5ba1799d65c7a83b08e24a9ca7847de9a479f6f426633e7"
   }
  }
 },
 "nbformat": 4,
 "nbformat_minor": 2
}
